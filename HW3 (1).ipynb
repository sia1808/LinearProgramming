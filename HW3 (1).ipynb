{
 "cells": [
  {
   "cell_type": "markdown",
   "id": "01936dd2-b54d-489c-b6e2-8b691a18a97c",
   "metadata": {},
   "source": [
    "# Homework 3"
   ]
  },
  {
   "cell_type": "markdown",
   "id": "c45ee780-51cc-492a-930c-2251b7e9a49f",
   "metadata": {},
   "source": [
    "## Sia Sharma\n",
    "## Collaborators: Om Italiya, Nikita Salkar"
   ]
  },
  {
   "cell_type": "markdown",
   "id": "805977d9-8431-4321-9bee-8dcfa147fcc1",
   "metadata": {},
   "source": [
    "## Question 1"
   ]
  },
  {
   "cell_type": "markdown",
   "id": "ab884d1f-858d-47fb-a2c0-fb5bf8f248af",
   "metadata": {},
   "source": [
    "### part a)"
   ]
  },
  {
   "cell_type": "code",
   "execution_count": 29,
   "id": "0f872fbb-0df8-47e2-bdb5-260ac70e7e94",
   "metadata": {},
   "outputs": [
    {
     "data": {
      "text/plain": [
       "[4, 9, 1, 5, 8]"
      ]
     },
     "execution_count": 29,
     "metadata": {},
     "output_type": "execute_result"
    }
   ],
   "source": [
    "import random\n",
    "from random import sample\n",
    "\n",
    "lst = [1, 2, 3, 4, 5, 6, 7, 8, 9]\n",
    "\n",
    "random.sample(lst, 5)"
   ]
  },
  {
   "cell_type": "markdown",
   "id": "a00f20d6-90a2-4cf0-a562-08f0f5a46423",
   "metadata": {},
   "source": [
    "### part b)"
   ]
  },
  {
   "cell_type": "code",
   "execution_count": 30,
   "id": "1a95b4d9-935b-4558-8119-ed8a0f812e4f",
   "metadata": {},
   "outputs": [
    {
     "name": "stdout",
     "output_type": "stream",
     "text": [
      "           Name  MPG\n",
      "0   rolls royce   50\n",
      "1          ford   45\n",
      "2       bugatti   24\n",
      "3       bentley   31\n",
      "4       ferrari   30\n",
      "5          audi   49\n",
      "6   lamborghini   33\n",
      "7    volkswagen   39\n",
      "8  aston martin   25\n",
      "9         mazda   47\n",
      "\n",
      "           Name  Seconds To 60\n",
      "0         mazda             11\n",
      "1    volkswagen              1\n",
      "2  aston martin             19\n",
      "3       bentley             12\n",
      "4      mercedes              6\n",
      "5       ferrari              9\n",
      "6           bmw             18\n",
      "7       bugatti             16\n",
      "8         honda             15\n",
      "9   lamborghini             10\n"
     ]
    }
   ],
   "source": [
    "import numpy as np\n",
    "import pandas as pd\n",
    "\n",
    "#define list\n",
    "cars = [\"bmw\",\"tesla\",\"aston martin\",\"bugatti\",\"ferrari\",\"rolls royce\",\"ford\",\"toyota\",\"jeep\",\"mercedes\",\"honda\",\"chevrolet\",\"audi\",\"mazda\",\"lamborghini\",\"cadillac\",\"bentley\",\"volkswagen\"]\n",
    "\n",
    "\n",
    "# Selecting 10 random car names\n",
    "randnames = random.sample(cars,10)\n",
    "randnames2 = random.sample(cars, 10) #making another random sample so that the same list is not repeated\n",
    "\n",
    "# Doing MPG and seconds to 60 random lists using range\n",
    "randMPG = random.sample(range(5,51), 10)\n",
    "sec260 = random.sample(range(1,21), 10)\n",
    "\n",
    "#making dataframes\n",
    "df1 = pd.DataFrame({'Name': randnames, 'MPG': randMPG})\n",
    "df2 = pd.DataFrame({'Name': randnames2, 'Seconds To 60': sec260})\n",
    "\n",
    "\n",
    "print(df1)\n",
    "print( )\n",
    "print(df2)       "
   ]
  },
  {
   "cell_type": "markdown",
   "id": "706bf0c5-1c9e-4e8d-88c2-20b8262a8ac5",
   "metadata": {},
   "source": [
    "### part c)"
   ]
  },
  {
   "cell_type": "code",
   "execution_count": 31,
   "id": "75a69bc6-0796-4c5d-b894-748bd83e5143",
   "metadata": {},
   "outputs": [
    {
     "data": {
      "text/html": [
       "<div>\n",
       "<style scoped>\n",
       "    .dataframe tbody tr th:only-of-type {\n",
       "        vertical-align: middle;\n",
       "    }\n",
       "\n",
       "    .dataframe tbody tr th {\n",
       "        vertical-align: top;\n",
       "    }\n",
       "\n",
       "    .dataframe thead th {\n",
       "        text-align: right;\n",
       "    }\n",
       "</style>\n",
       "<table border=\"1\" class=\"dataframe\">\n",
       "  <thead>\n",
       "    <tr style=\"text-align: right;\">\n",
       "      <th></th>\n",
       "      <th>Name</th>\n",
       "      <th>MPG</th>\n",
       "      <th>Seconds To 60</th>\n",
       "    </tr>\n",
       "  </thead>\n",
       "  <tbody>\n",
       "    <tr>\n",
       "      <th>0</th>\n",
       "      <td>aston martin</td>\n",
       "      <td>25.0</td>\n",
       "      <td>19.0</td>\n",
       "    </tr>\n",
       "    <tr>\n",
       "      <th>1</th>\n",
       "      <td>audi</td>\n",
       "      <td>49.0</td>\n",
       "      <td>NaN</td>\n",
       "    </tr>\n",
       "    <tr>\n",
       "      <th>2</th>\n",
       "      <td>bentley</td>\n",
       "      <td>31.0</td>\n",
       "      <td>12.0</td>\n",
       "    </tr>\n",
       "    <tr>\n",
       "      <th>3</th>\n",
       "      <td>bmw</td>\n",
       "      <td>NaN</td>\n",
       "      <td>18.0</td>\n",
       "    </tr>\n",
       "    <tr>\n",
       "      <th>4</th>\n",
       "      <td>bugatti</td>\n",
       "      <td>24.0</td>\n",
       "      <td>16.0</td>\n",
       "    </tr>\n",
       "    <tr>\n",
       "      <th>5</th>\n",
       "      <td>ferrari</td>\n",
       "      <td>30.0</td>\n",
       "      <td>9.0</td>\n",
       "    </tr>\n",
       "    <tr>\n",
       "      <th>6</th>\n",
       "      <td>ford</td>\n",
       "      <td>45.0</td>\n",
       "      <td>NaN</td>\n",
       "    </tr>\n",
       "    <tr>\n",
       "      <th>7</th>\n",
       "      <td>honda</td>\n",
       "      <td>NaN</td>\n",
       "      <td>15.0</td>\n",
       "    </tr>\n",
       "    <tr>\n",
       "      <th>8</th>\n",
       "      <td>lamborghini</td>\n",
       "      <td>33.0</td>\n",
       "      <td>10.0</td>\n",
       "    </tr>\n",
       "    <tr>\n",
       "      <th>9</th>\n",
       "      <td>mazda</td>\n",
       "      <td>47.0</td>\n",
       "      <td>11.0</td>\n",
       "    </tr>\n",
       "    <tr>\n",
       "      <th>10</th>\n",
       "      <td>mercedes</td>\n",
       "      <td>NaN</td>\n",
       "      <td>6.0</td>\n",
       "    </tr>\n",
       "    <tr>\n",
       "      <th>11</th>\n",
       "      <td>rolls royce</td>\n",
       "      <td>50.0</td>\n",
       "      <td>NaN</td>\n",
       "    </tr>\n",
       "    <tr>\n",
       "      <th>12</th>\n",
       "      <td>volkswagen</td>\n",
       "      <td>39.0</td>\n",
       "      <td>1.0</td>\n",
       "    </tr>\n",
       "  </tbody>\n",
       "</table>\n",
       "</div>"
      ],
      "text/plain": [
       "            Name   MPG  Seconds To 60\n",
       "0   aston martin  25.0           19.0\n",
       "1           audi  49.0            NaN\n",
       "2        bentley  31.0           12.0\n",
       "3            bmw   NaN           18.0\n",
       "4        bugatti  24.0           16.0\n",
       "5        ferrari  30.0            9.0\n",
       "6           ford  45.0            NaN\n",
       "7          honda   NaN           15.0\n",
       "8    lamborghini  33.0           10.0\n",
       "9          mazda  47.0           11.0\n",
       "10      mercedes   NaN            6.0\n",
       "11   rolls royce  50.0            NaN\n",
       "12    volkswagen  39.0            1.0"
      ]
     },
     "execution_count": 31,
     "metadata": {},
     "output_type": "execute_result"
    }
   ],
   "source": [
    "# Merging the two DataFrames on the 'Name' column using outer join\n",
    "df = pd.merge(df1, df2, on = 'Name', how = 'outer')\n",
    "df"
   ]
  },
  {
   "cell_type": "markdown",
   "id": "1bb6269d-0ff1-4447-b29a-40125fb24ca6",
   "metadata": {},
   "source": [
    "### part d)"
   ]
  },
  {
   "cell_type": "code",
   "execution_count": 32,
   "id": "bec22268-34d1-4efc-be40-5503e355554b",
   "metadata": {},
   "outputs": [
    {
     "name": "stdout",
     "output_type": "stream",
     "text": [
      "            Name   MPG  Seconds To 60\n",
      "0   aston martin  25.0           19.0\n",
      "1           audi  49.0           19.0\n",
      "2        bentley  31.0           12.0\n",
      "3            bmw  37.3           18.0\n",
      "4        bugatti  24.0           16.0\n",
      "5        ferrari  30.0            9.0\n",
      "6           ford  45.0           19.0\n",
      "7          honda  37.3           15.0\n",
      "8    lamborghini  33.0           10.0\n",
      "9          mazda  47.0           11.0\n",
      "10      mercedes  37.3            6.0\n",
      "11   rolls royce  50.0           19.0\n",
      "12    volkswagen  39.0            1.0\n"
     ]
    }
   ],
   "source": [
    "# Filling missing values in 'MPG' column with mean value\n",
    "meanval = df[\"MPG\"].mean()\n",
    "df[\"MPG\"] = df[\"MPG\"].replace(np.nan, meanval)\n",
    "\n",
    "# Filling missing values in 'Seconds To 60' column with maximum value\n",
    "maxval = df[\"Seconds To 60\"].max()\n",
    "df[\"Seconds To 60\"] = df[\"Seconds To 60\"].replace(np.nan, maxval)\n",
    "\n",
    "print(df)"
   ]
  },
  {
   "cell_type": "markdown",
   "id": "04e7bfa8-0749-4a32-8878-7a7e76a85720",
   "metadata": {},
   "source": [
    "### part e)"
   ]
  },
  {
   "cell_type": "code",
   "execution_count": 33,
   "id": "b2871866-91a7-42ef-9d04-09fea061d381",
   "metadata": {},
   "outputs": [
    {
     "name": "stdout",
     "output_type": "stream",
     "text": [
      "                    Name   MPG  Seconds To 60\n",
      "0   Awesome aston martin  25.0           19.0\n",
      "1           Awesome audi  49.0           19.0\n",
      "2        Awesome bentley  31.0           12.0\n",
      "3            Awesome bmw  37.3           18.0\n",
      "4        Awesome bugatti  24.0           16.0\n",
      "5        Awesome ferrari  30.0            9.0\n",
      "6           Awesome ford  45.0           19.0\n",
      "7          Awesome honda  37.3           15.0\n",
      "8    Awesome lamborghini  33.0           10.0\n",
      "9          Awesome mazda  47.0           11.0\n",
      "10      Awesome mercedes  37.3            6.0\n",
      "11   Awesome rolls royce  50.0           19.0\n",
      "12    Awesome volkswagen  39.0            1.0\n"
     ]
    }
   ],
   "source": [
    "# Adding prefix \"Awesome\" to the values in the 'Name' column\n",
    "df[\"Name\"] = \"Awesome \" + df[\"Name\"]\n",
    "\n",
    "print(df)"
   ]
  },
  {
   "cell_type": "markdown",
   "id": "5e983410-04a2-4443-b447-b5bb832b574e",
   "metadata": {},
   "source": [
    "### part f)"
   ]
  },
  {
   "cell_type": "code",
   "execution_count": 34,
   "id": "c2b6539f-13b4-416f-a299-1e0aed34dc0f",
   "metadata": {},
   "outputs": [
    {
     "name": "stdout",
     "output_type": "stream",
     "text": [
      "                   Name   MPG  Seconds To 60\n",
      "1          Awesome audi  49.0           19.0\n",
      "6          Awesome ford  45.0           19.0\n",
      "9         Awesome mazda  47.0           11.0\n",
      "11  Awesome rolls royce  50.0           19.0\n",
      "12   Awesome volkswagen  39.0            1.0\n"
     ]
    }
   ],
   "source": [
    "# Selecting rows where MPG is greater than the median MPG\n",
    "df_eco = df.loc[df['MPG'] > df['MPG'].median()]\n",
    "\n",
    "print(df_eco)"
   ]
  },
  {
   "cell_type": "markdown",
   "id": "5aa5ec20-0da3-411d-bc6e-43575cc2af40",
   "metadata": {},
   "source": [
    "## Question 2"
   ]
  },
  {
   "cell_type": "markdown",
   "id": "22ff4d74-0970-4272-ba36-8ee397cae283",
   "metadata": {},
   "source": [
    "### part a)"
   ]
  },
  {
   "cell_type": "code",
   "execution_count": 35,
   "id": "082d8bee-fa1e-4e84-acf5-7d2b6a88367f",
   "metadata": {},
   "outputs": [],
   "source": [
    "import pandas as pd"
   ]
  },
  {
   "cell_type": "code",
   "execution_count": 36,
   "id": "d6000487-07e9-4592-9245-1d13cfbc09cd",
   "metadata": {},
   "outputs": [
    {
     "data": {
      "text/html": [
       "<div>\n",
       "<style scoped>\n",
       "    .dataframe tbody tr th:only-of-type {\n",
       "        vertical-align: middle;\n",
       "    }\n",
       "\n",
       "    .dataframe tbody tr th {\n",
       "        vertical-align: top;\n",
       "    }\n",
       "\n",
       "    .dataframe thead th {\n",
       "        text-align: right;\n",
       "    }\n",
       "</style>\n",
       "<table border=\"1\" class=\"dataframe\">\n",
       "  <thead>\n",
       "    <tr style=\"text-align: right;\">\n",
       "      <th></th>\n",
       "      <th>Yeast</th>\n",
       "      <th>Flour</th>\n",
       "      <th>Sugar</th>\n",
       "    </tr>\n",
       "  </thead>\n",
       "  <tbody>\n",
       "    <tr>\n",
       "      <th>0</th>\n",
       "      <td>57.5</td>\n",
       "      <td>112.5</td>\n",
       "      <td>245</td>\n",
       "    </tr>\n",
       "  </tbody>\n",
       "</table>\n",
       "</div>"
      ],
      "text/plain": [
       "   Yeast  Flour  Sugar\n",
       "0   57.5  112.5    245"
      ]
     },
     "execution_count": 36,
     "metadata": {},
     "output_type": "execute_result"
    }
   ],
   "source": [
    "ingredients = pd.read_csv('ingredients.csv', sep=',') #reading and opening the file\n",
    "\n",
    "ingredients"
   ]
  },
  {
   "cell_type": "markdown",
   "id": "b9e3559f-377b-4ad8-9e76-28a78693c24d",
   "metadata": {},
   "source": [
    "### part b)"
   ]
  },
  {
   "cell_type": "code",
   "execution_count": 37,
   "id": "9b71130b-e052-4a15-8222-e5a7866e06eb",
   "metadata": {},
   "outputs": [
    {
     "data": {
      "text/html": [
       "<div>\n",
       "<style scoped>\n",
       "    .dataframe tbody tr th:only-of-type {\n",
       "        vertical-align: middle;\n",
       "    }\n",
       "\n",
       "    .dataframe tbody tr th {\n",
       "        vertical-align: top;\n",
       "    }\n",
       "\n",
       "    .dataframe thead th {\n",
       "        text-align: right;\n",
       "    }\n",
       "</style>\n",
       "<table border=\"1\" class=\"dataframe\">\n",
       "  <thead>\n",
       "    <tr style=\"text-align: right;\">\n",
       "      <th></th>\n",
       "      <th>Name</th>\n",
       "      <th>Price</th>\n",
       "      <th>Yeast</th>\n",
       "      <th>Flour</th>\n",
       "      <th>Sugar</th>\n",
       "    </tr>\n",
       "  </thead>\n",
       "  <tbody>\n",
       "    <tr>\n",
       "      <th>0</th>\n",
       "      <td>Apple Pie</td>\n",
       "      <td>2.99</td>\n",
       "      <td>0.00</td>\n",
       "      <td>0.75</td>\n",
       "      <td>1.50</td>\n",
       "    </tr>\n",
       "    <tr>\n",
       "      <th>1</th>\n",
       "      <td>Croissant</td>\n",
       "      <td>2.50</td>\n",
       "      <td>0.50</td>\n",
       "      <td>1.50</td>\n",
       "      <td>0.25</td>\n",
       "    </tr>\n",
       "    <tr>\n",
       "      <th>2</th>\n",
       "      <td>Poppy seed roll</td>\n",
       "      <td>5.99</td>\n",
       "      <td>1.15</td>\n",
       "      <td>1.50</td>\n",
       "      <td>0.75</td>\n",
       "    </tr>\n",
       "  </tbody>\n",
       "</table>\n",
       "</div>"
      ],
      "text/plain": [
       "              Name  Price  Yeast  Flour  Sugar\n",
       "0        Apple Pie   2.99   0.00   0.75   1.50\n",
       "1        Croissant   2.50   0.50   1.50   0.25\n",
       "2  Poppy seed roll   5.99   1.15   1.50   0.75"
      ]
     },
     "execution_count": 37,
     "metadata": {},
     "output_type": "execute_result"
    }
   ],
   "source": [
    "pastries = pd.read_csv('pastries.csv', sep=',') #reading and opening the file\n",
    "\n",
    "pastries"
   ]
  },
  {
   "cell_type": "markdown",
   "id": "882f1c1d-2b5c-4ae7-8df2-ef2bf7f11a2a",
   "metadata": {},
   "source": [
    "### part c)"
   ]
  },
  {
   "cell_type": "code",
   "execution_count": 55,
   "id": "cd3bf827-103f-4511-8f01-120a65ae95c3",
   "metadata": {},
   "outputs": [
    {
     "name": "stdout",
     "output_type": "stream",
     "text": [
      "The max profit is $449.0 and can be achieved by producing\n",
      " * Apple Pie: 50.00000000000001 pieces\n",
      " * Poppy Seed Roll: 50.0 pieces\n"
     ]
    },
    {
     "name": "stderr",
     "output_type": "stream",
     "text": [
      "/var/folders/n6/g5y123d14fb0t7zd7n5z_n640000gn/T/ipykernel_71294/846411676.py:3: FutureWarning: Series.ravel is deprecated. The underlying array is already 1D, so ravel is not necessary.  Use `to_numpy()` for conversion to a numpy array instead.\n",
      "  costs = pastries[\"Price\"].ravel()*-1 #ravel converts the prices into a 1D array, and make it negative because it's a cost and we need to maximise profit\n"
     ]
    }
   ],
   "source": [
    "from scipy.optimize import linprog\n",
    "\n",
    "costs = pastries[\"Price\"].ravel()*-1 #ravel converts the prices into a 1D array, and make it negative because it's a cost and we need to maximise profit\n",
    "\n",
    "Needed = ([pastries[\"Yeast\"],pastries[\"Flour\"],pastries[\"Sugar\"]]) #split by columns for each ingredient needed, shows inequality constraints\n",
    "Have = (ingredients[\"Yeast\"],ingredients[\"Flour\"],ingredients[\"Sugar\"]) # how much of each ingredient we have\n",
    "\n",
    "#create bounds so that solution cannot go under 0\n",
    "bounds = [(0,None) for i in range(3)]\n",
    "\n",
    "# solve the problem with the function where A_ub is <= B_ub\n",
    "results = linprog(costs, A_ub = Needed , b_ub = Have, bounds = bounds)\n",
    "\n",
    "print(\"The max profit is $\" + str(results.fun*-1) + \" and can be achieved by producing\") # multiple by -1 to negate the negative costs and use fun for the maximization\n",
    "\n",
    "# checking how much of each item I make\n",
    "#print(results.x) \n",
    "\n",
    "#print how much of each item maximizes profits based on the fact that results.x shows it in order based on the item\n",
    "print(\" * Apple Pie: \" + str(results.x[0]) + \" pieces\")\n",
    "print(\" * Poppy Seed Roll: \" + str(results.x[2]) + \" pieces\")"
   ]
  },
  {
   "cell_type": "markdown",
   "id": "54393797-8db8-4ef7-9a54-18769528ad0a",
   "metadata": {},
   "source": [
    "## Question 3"
   ]
  },
  {
   "cell_type": "markdown",
   "id": "68b02ecd-f20e-4c42-9551-60a2879e687c",
   "metadata": {},
   "source": [
    "I spent around 4 hours on this homework."
   ]
  }
 ],
 "metadata": {
  "kernelspec": {
   "display_name": "Python 3 (ipykernel)",
   "language": "python",
   "name": "python3"
  },
  "language_info": {
   "codemirror_mode": {
    "name": "ipython",
    "version": 3
   },
   "file_extension": ".py",
   "mimetype": "text/x-python",
   "name": "python",
   "nbconvert_exporter": "python",
   "pygments_lexer": "ipython3",
   "version": "3.12.1"
  }
 },
 "nbformat": 4,
 "nbformat_minor": 5
}
